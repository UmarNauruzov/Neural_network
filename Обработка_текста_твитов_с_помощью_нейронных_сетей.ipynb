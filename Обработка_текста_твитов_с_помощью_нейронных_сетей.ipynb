{
  "nbformat": 4,
  "nbformat_minor": 0,
  "metadata": {
    "colab": {
      "provenance": [],
      "machine_shape": "hm",
      "include_colab_link": true
    },
    "kernelspec": {
      "display_name": "Python 3",
      "name": "python3"
    },
    "accelerator": "GPU"
  },
  "cells": [
    {
      "cell_type": "markdown",
      "metadata": {
        "id": "view-in-github",
        "colab_type": "text"
      },
      "source": [
        "<a href=\"https://colab.research.google.com/github/UmarNauruzov/Neural_network/blob/main/%D0%9E%D0%B1%D1%80%D0%B0%D0%B1%D0%BE%D1%82%D0%BA%D0%B0_%D1%82%D0%B5%D0%BA%D1%81%D1%82%D0%B0_%D1%82%D0%B2%D0%B8%D1%82%D0%BE%D0%B2_%D1%81_%D0%BF%D0%BE%D0%BC%D0%BE%D1%89%D1%8C%D1%8E_%D0%BD%D0%B5%D0%B9%D1%80%D0%BE%D0%BD%D0%BD%D1%8B%D1%85_%D1%81%D0%B5%D1%82%D0%B5%D0%B9.ipynb\" target=\"_parent\"><img src=\"https://colab.research.google.com/assets/colab-badge.svg\" alt=\"Open In Colab\"/></a>"
      ]
    },
    {
      "cell_type": "markdown",
      "metadata": {
        "id": "IHXackN2rVl8"
      },
      "source": [
        "#Обработка текстов нейронными сетями: классификация позитивных и неготивных отзывов"
      ]
    },
    {
      "cell_type": "markdown",
      "metadata": {
        "id": "3njOXhPkZP4Q"
      },
      "source": [
        "##Импорт библиотек"
      ]
    },
    {
      "cell_type": "code",
      "metadata": {
        "id": "VdQmQRVFqXXk"
      },
      "source": [
        "# Работа с массивами данных\n",
        "import numpy as np \n",
        "\n",
        "# Работа с таблицами\n",
        "import pandas as pd\n",
        "\n",
        "# Отрисовка графиков\n",
        "import matplotlib.pyplot as plt\n",
        "\n",
        "# Функции-утилиты для работы с категориальными данными\n",
        "from tensorflow.keras import utils\n",
        "\n",
        "# Класс для конструирования последовательной модели нейронной сети\n",
        "from tensorflow.keras.models import Sequential\n",
        "\n",
        "# Основные слои\n",
        "from tensorflow.keras.layers import Dense, Dropout, SpatialDropout1D, BatchNormalization, Embedding, Flatten, Activation \n",
        "\n",
        "# Токенизатор для преобразование текстов в последовательности\n",
        "from tensorflow.keras.preprocessing.text import Tokenizer\n",
        "\n",
        "# Заполнение последовательностей до определенной длины\n",
        "from tensorflow.keras.preprocessing.sequence import pad_sequences\n",
        "\n",
        "# Матрица ошибок классификатора\n",
        "from sklearn.metrics import confusion_matrix, ConfusionMatrixDisplay\n",
        "\n",
        "# Кодирование тестовых меток\n",
        "from sklearn.preprocessing import LabelEncoder\n",
        "\n",
        "# Разбиение на тренировочную и тестовую выборки\n",
        "from sklearn.model_selection import train_test_split\n",
        "\n",
        "# Загрузка датасетов из облака google\n",
        "import gdown\n",
        "\n",
        "# Отрисовка графиков\n",
        "import matplotlib.pyplot as plt\n",
        "\n",
        "%matplotlib inline"
      ],
      "execution_count": null,
      "outputs": []
    },
    {
      "cell_type": "markdown",
      "metadata": {
        "id": "PhoCV8mIc9j8"
      },
      "source": [
        "##Загрузка датасета и подготовка данных"
      ]
    },
    {
      "cell_type": "code",
      "metadata": {
        "id": "JOgA_JsHFaDH"
      },
      "source": [
        "!gdown --id 1GujrcFzRdo3E7UtUkcrljzDS9czBBy3s\n",
        "!gdown --id 1vvm-PrV0r2wuGbYYovZSuReYOXpu0JRK\n",
        "\n",
        "import os, shutil\n",
        "if not os.path.exists('/content/data'):\n",
        "  os.makedirs('/content/data')\n",
        "shutil.move('train.csv', \"/content/data\")"
      ],
      "execution_count": null,
      "outputs": []
    },
    {
      "cell_type": "markdown",
      "metadata": {
        "id": "booQ5fEBFZnJ"
      },
      "source": [
        "Библиотека Pandas поможет прочесть данные в виде таблицы, чтобы работа с ними стала\n",
        "удобнее.\n",
        "\n",
        "Сохраните данные в переменную **train**.\n",
        "\n",
        "Pandas инициирована как `pd`, а `read_csv()` – функция чтения данных табличного\n",
        "формата."
      ]
    },
    {
      "cell_type": "code",
      "source": [
        "train = pd.read_csv('/content/data/train.csv', delimiter=',', index_col='id')\n",
        "test = pd.read_csv('/content/data/Soc_Net_Task_2_test_5.csv', delimiter=',', index_col='id')\n",
        "test"
      ],
      "metadata": {
        "colab": {
          "base_uri": "https://localhost:8080/",
          "height": 455
        },
        "id": "vVuZypAvrUb7",
        "outputId": "d6fe2eed-bf56-4261-e890-fe40d9615c23"
      },
      "execution_count": null,
      "outputs": [
        {
          "output_type": "execute_result",
          "data": {
            "text/plain": [
              "                                                     text\n",
              "id                                                       \n",
              "214980  RT fcdk1927 этот твит посвящается всем тем  кт...\n",
              "220887         kryakozya kristinkashurda да это хуйня все\n",
              "215971  RT zyhihogogufi он всё еще держит меня вконтак...\n",
              "214091  yozhum айпод нано 7 просто нам в сервисном заг...\n",
              "217379             NikitaLalko я теперь НИЧЕГО не понимаю\n",
              "...                                                   ...\n",
              "205768  рыдалъ рыдалъ облако тупой фигни  InstantFollo...\n",
              "221397  Eminem  Mockingbird\\nhttptcoJZnCcGe4LB с помощ...\n",
              "216347           despairscorpion все хотят быть плюшками \n",
              "217548  RT AcornDianaAcorn Satanist2666 ооооо ну я мол...\n",
              "225193  Vellitonn Судя по всему нетМакеев постоянно пр...\n",
              "\n",
              "[1000 rows x 1 columns]"
            ],
            "text/html": [
              "\n",
              "  <div id=\"df-1c0fb682-59bc-4d84-81c5-ac49ca664642\">\n",
              "    <div class=\"colab-df-container\">\n",
              "      <div>\n",
              "<style scoped>\n",
              "    .dataframe tbody tr th:only-of-type {\n",
              "        vertical-align: middle;\n",
              "    }\n",
              "\n",
              "    .dataframe tbody tr th {\n",
              "        vertical-align: top;\n",
              "    }\n",
              "\n",
              "    .dataframe thead th {\n",
              "        text-align: right;\n",
              "    }\n",
              "</style>\n",
              "<table border=\"1\" class=\"dataframe\">\n",
              "  <thead>\n",
              "    <tr style=\"text-align: right;\">\n",
              "      <th></th>\n",
              "      <th>text</th>\n",
              "    </tr>\n",
              "    <tr>\n",
              "      <th>id</th>\n",
              "      <th></th>\n",
              "    </tr>\n",
              "  </thead>\n",
              "  <tbody>\n",
              "    <tr>\n",
              "      <th>214980</th>\n",
              "      <td>RT fcdk1927 этот твит посвящается всем тем  кт...</td>\n",
              "    </tr>\n",
              "    <tr>\n",
              "      <th>220887</th>\n",
              "      <td>kryakozya kristinkashurda да это хуйня все</td>\n",
              "    </tr>\n",
              "    <tr>\n",
              "      <th>215971</th>\n",
              "      <td>RT zyhihogogufi он всё еще держит меня вконтак...</td>\n",
              "    </tr>\n",
              "    <tr>\n",
              "      <th>214091</th>\n",
              "      <td>yozhum айпод нано 7 просто нам в сервисном заг...</td>\n",
              "    </tr>\n",
              "    <tr>\n",
              "      <th>217379</th>\n",
              "      <td>NikitaLalko я теперь НИЧЕГО не понимаю</td>\n",
              "    </tr>\n",
              "    <tr>\n",
              "      <th>...</th>\n",
              "      <td>...</td>\n",
              "    </tr>\n",
              "    <tr>\n",
              "      <th>205768</th>\n",
              "      <td>рыдалъ рыдалъ облако тупой фигни  InstantFollo...</td>\n",
              "    </tr>\n",
              "    <tr>\n",
              "      <th>221397</th>\n",
              "      <td>Eminem  Mockingbird\\nhttptcoJZnCcGe4LB с помощ...</td>\n",
              "    </tr>\n",
              "    <tr>\n",
              "      <th>216347</th>\n",
              "      <td>despairscorpion все хотят быть плюшками</td>\n",
              "    </tr>\n",
              "    <tr>\n",
              "      <th>217548</th>\n",
              "      <td>RT AcornDianaAcorn Satanist2666 ооооо ну я мол...</td>\n",
              "    </tr>\n",
              "    <tr>\n",
              "      <th>225193</th>\n",
              "      <td>Vellitonn Судя по всему нетМакеев постоянно пр...</td>\n",
              "    </tr>\n",
              "  </tbody>\n",
              "</table>\n",
              "<p>1000 rows × 1 columns</p>\n",
              "</div>\n",
              "      <button class=\"colab-df-convert\" onclick=\"convertToInteractive('df-1c0fb682-59bc-4d84-81c5-ac49ca664642')\"\n",
              "              title=\"Convert this dataframe to an interactive table.\"\n",
              "              style=\"display:none;\">\n",
              "        \n",
              "  <svg xmlns=\"http://www.w3.org/2000/svg\" height=\"24px\"viewBox=\"0 0 24 24\"\n",
              "       width=\"24px\">\n",
              "    <path d=\"M0 0h24v24H0V0z\" fill=\"none\"/>\n",
              "    <path d=\"M18.56 5.44l.94 2.06.94-2.06 2.06-.94-2.06-.94-.94-2.06-.94 2.06-2.06.94zm-11 1L8.5 8.5l.94-2.06 2.06-.94-2.06-.94L8.5 2.5l-.94 2.06-2.06.94zm10 10l.94 2.06.94-2.06 2.06-.94-2.06-.94-.94-2.06-.94 2.06-2.06.94z\"/><path d=\"M17.41 7.96l-1.37-1.37c-.4-.4-.92-.59-1.43-.59-.52 0-1.04.2-1.43.59L10.3 9.45l-7.72 7.72c-.78.78-.78 2.05 0 2.83L4 21.41c.39.39.9.59 1.41.59.51 0 1.02-.2 1.41-.59l7.78-7.78 2.81-2.81c.8-.78.8-2.07 0-2.86zM5.41 20L4 18.59l7.72-7.72 1.47 1.35L5.41 20z\"/>\n",
              "  </svg>\n",
              "      </button>\n",
              "      \n",
              "  <style>\n",
              "    .colab-df-container {\n",
              "      display:flex;\n",
              "      flex-wrap:wrap;\n",
              "      gap: 12px;\n",
              "    }\n",
              "\n",
              "    .colab-df-convert {\n",
              "      background-color: #E8F0FE;\n",
              "      border: none;\n",
              "      border-radius: 50%;\n",
              "      cursor: pointer;\n",
              "      display: none;\n",
              "      fill: #1967D2;\n",
              "      height: 32px;\n",
              "      padding: 0 0 0 0;\n",
              "      width: 32px;\n",
              "    }\n",
              "\n",
              "    .colab-df-convert:hover {\n",
              "      background-color: #E2EBFA;\n",
              "      box-shadow: 0px 1px 2px rgba(60, 64, 67, 0.3), 0px 1px 3px 1px rgba(60, 64, 67, 0.15);\n",
              "      fill: #174EA6;\n",
              "    }\n",
              "\n",
              "    [theme=dark] .colab-df-convert {\n",
              "      background-color: #3B4455;\n",
              "      fill: #D2E3FC;\n",
              "    }\n",
              "\n",
              "    [theme=dark] .colab-df-convert:hover {\n",
              "      background-color: #434B5C;\n",
              "      box-shadow: 0px 1px 3px 1px rgba(0, 0, 0, 0.15);\n",
              "      filter: drop-shadow(0px 1px 2px rgba(0, 0, 0, 0.3));\n",
              "      fill: #FFFFFF;\n",
              "    }\n",
              "  </style>\n",
              "\n",
              "      <script>\n",
              "        const buttonEl =\n",
              "          document.querySelector('#df-1c0fb682-59bc-4d84-81c5-ac49ca664642 button.colab-df-convert');\n",
              "        buttonEl.style.display =\n",
              "          google.colab.kernel.accessAllowed ? 'block' : 'none';\n",
              "\n",
              "        async function convertToInteractive(key) {\n",
              "          const element = document.querySelector('#df-1c0fb682-59bc-4d84-81c5-ac49ca664642');\n",
              "          const dataTable =\n",
              "            await google.colab.kernel.invokeFunction('convertToInteractive',\n",
              "                                                     [key], {});\n",
              "          if (!dataTable) return;\n",
              "\n",
              "          const docLinkHtml = 'Like what you see? Visit the ' +\n",
              "            '<a target=\"_blank\" href=https://colab.research.google.com/notebooks/data_table.ipynb>data table notebook</a>'\n",
              "            + ' to learn more about interactive tables.';\n",
              "          element.innerHTML = '';\n",
              "          dataTable['output_type'] = 'display_data';\n",
              "          await google.colab.output.renderOutput(dataTable, element);\n",
              "          const docLink = document.createElement('div');\n",
              "          docLink.innerHTML = docLinkHtml;\n",
              "          element.appendChild(docLink);\n",
              "        }\n",
              "      </script>\n",
              "    </div>\n",
              "  </div>\n",
              "  "
            ]
          },
          "metadata": {},
          "execution_count": 2
        }
      ]
    },
    {
      "cell_type": "markdown",
      "metadata": {
        "id": "30rv3JkvGdPW"
      },
      "source": [
        "Функция `shape()` сообщает, что в таблице 181467 строк (самих твитов) и 3\n",
        "столбца, чтобы удобно упорядочить все данные по разделам."
      ]
    },
    {
      "cell_type": "code",
      "metadata": {
        "id": "bhxskfl6gWiZ",
        "colab": {
          "base_uri": "https://localhost:8080/"
        },
        "outputId": "279e85e3-53ea-495c-a150-05c45c2f413c"
      },
      "source": [
        "# Вывод размерности таблицы\n",
        "print(train.shape)"
      ],
      "execution_count": null,
      "outputs": [
        {
          "output_type": "stream",
          "name": "stdout",
          "text": [
            "(181467, 2)\n"
          ]
        }
      ]
    },
    {
      "cell_type": "markdown",
      "metadata": {
        "id": "kChpcWShHER7"
      },
      "source": [
        "Деление данных по\n",
        "столбцам, соответственно, это id сообщения, текст сообщения(твита) и его\n",
        "класс(позитивный или неготивный). Это вы увидите, отобразив первые 5 строк базы с помощью\n",
        "`head()`:"
      ]
    },
    {
      "cell_type": "code",
      "metadata": {
        "colab": {
          "base_uri": "https://localhost:8080/",
          "height": 238
        },
        "id": "27dLYdZVE0XK",
        "outputId": "6e301a07-3c60-434d-a231-4ab804d3ee50"
      },
      "source": [
        "# Вывод первых строк таблицы\n",
        "train.head()                                 "
      ],
      "execution_count": null,
      "outputs": [
        {
          "output_type": "execute_result",
          "data": {
            "text/plain": [
              "                                                 text  class\n",
              "id                                                          \n",
              "0   VitaliaPerilova у тебя классные очкиони тебя о...      1\n",
              "1   Никогда не подумала бы что самое приятное на с...      1\n",
              "2   KlimovaElena о дааа вот это я понимаю как никт...      0\n",
              "3   Говорят еле хожу никого не вижу будто живой ме...      0\n",
              "4   то чувство когда понимаешь что завтра можно вы...      1"
            ],
            "text/html": [
              "\n",
              "  <div id=\"df-bbdb5947-a53e-442a-a9be-48c8e6fd51ab\">\n",
              "    <div class=\"colab-df-container\">\n",
              "      <div>\n",
              "<style scoped>\n",
              "    .dataframe tbody tr th:only-of-type {\n",
              "        vertical-align: middle;\n",
              "    }\n",
              "\n",
              "    .dataframe tbody tr th {\n",
              "        vertical-align: top;\n",
              "    }\n",
              "\n",
              "    .dataframe thead th {\n",
              "        text-align: right;\n",
              "    }\n",
              "</style>\n",
              "<table border=\"1\" class=\"dataframe\">\n",
              "  <thead>\n",
              "    <tr style=\"text-align: right;\">\n",
              "      <th></th>\n",
              "      <th>text</th>\n",
              "      <th>class</th>\n",
              "    </tr>\n",
              "    <tr>\n",
              "      <th>id</th>\n",
              "      <th></th>\n",
              "      <th></th>\n",
              "    </tr>\n",
              "  </thead>\n",
              "  <tbody>\n",
              "    <tr>\n",
              "      <th>0</th>\n",
              "      <td>VitaliaPerilova у тебя классные очкиони тебя о...</td>\n",
              "      <td>1</td>\n",
              "    </tr>\n",
              "    <tr>\n",
              "      <th>1</th>\n",
              "      <td>Никогда не подумала бы что самое приятное на с...</td>\n",
              "      <td>1</td>\n",
              "    </tr>\n",
              "    <tr>\n",
              "      <th>2</th>\n",
              "      <td>KlimovaElena о дааа вот это я понимаю как никт...</td>\n",
              "      <td>0</td>\n",
              "    </tr>\n",
              "    <tr>\n",
              "      <th>3</th>\n",
              "      <td>Говорят еле хожу никого не вижу будто живой ме...</td>\n",
              "      <td>0</td>\n",
              "    </tr>\n",
              "    <tr>\n",
              "      <th>4</th>\n",
              "      <td>то чувство когда понимаешь что завтра можно вы...</td>\n",
              "      <td>1</td>\n",
              "    </tr>\n",
              "  </tbody>\n",
              "</table>\n",
              "</div>\n",
              "      <button class=\"colab-df-convert\" onclick=\"convertToInteractive('df-bbdb5947-a53e-442a-a9be-48c8e6fd51ab')\"\n",
              "              title=\"Convert this dataframe to an interactive table.\"\n",
              "              style=\"display:none;\">\n",
              "        \n",
              "  <svg xmlns=\"http://www.w3.org/2000/svg\" height=\"24px\"viewBox=\"0 0 24 24\"\n",
              "       width=\"24px\">\n",
              "    <path d=\"M0 0h24v24H0V0z\" fill=\"none\"/>\n",
              "    <path d=\"M18.56 5.44l.94 2.06.94-2.06 2.06-.94-2.06-.94-.94-2.06-.94 2.06-2.06.94zm-11 1L8.5 8.5l.94-2.06 2.06-.94-2.06-.94L8.5 2.5l-.94 2.06-2.06.94zm10 10l.94 2.06.94-2.06 2.06-.94-2.06-.94-.94-2.06-.94 2.06-2.06.94z\"/><path d=\"M17.41 7.96l-1.37-1.37c-.4-.4-.92-.59-1.43-.59-.52 0-1.04.2-1.43.59L10.3 9.45l-7.72 7.72c-.78.78-.78 2.05 0 2.83L4 21.41c.39.39.9.59 1.41.59.51 0 1.02-.2 1.41-.59l7.78-7.78 2.81-2.81c.8-.78.8-2.07 0-2.86zM5.41 20L4 18.59l7.72-7.72 1.47 1.35L5.41 20z\"/>\n",
              "  </svg>\n",
              "      </button>\n",
              "      \n",
              "  <style>\n",
              "    .colab-df-container {\n",
              "      display:flex;\n",
              "      flex-wrap:wrap;\n",
              "      gap: 12px;\n",
              "    }\n",
              "\n",
              "    .colab-df-convert {\n",
              "      background-color: #E8F0FE;\n",
              "      border: none;\n",
              "      border-radius: 50%;\n",
              "      cursor: pointer;\n",
              "      display: none;\n",
              "      fill: #1967D2;\n",
              "      height: 32px;\n",
              "      padding: 0 0 0 0;\n",
              "      width: 32px;\n",
              "    }\n",
              "\n",
              "    .colab-df-convert:hover {\n",
              "      background-color: #E2EBFA;\n",
              "      box-shadow: 0px 1px 2px rgba(60, 64, 67, 0.3), 0px 1px 3px 1px rgba(60, 64, 67, 0.15);\n",
              "      fill: #174EA6;\n",
              "    }\n",
              "\n",
              "    [theme=dark] .colab-df-convert {\n",
              "      background-color: #3B4455;\n",
              "      fill: #D2E3FC;\n",
              "    }\n",
              "\n",
              "    [theme=dark] .colab-df-convert:hover {\n",
              "      background-color: #434B5C;\n",
              "      box-shadow: 0px 1px 3px 1px rgba(0, 0, 0, 0.15);\n",
              "      filter: drop-shadow(0px 1px 2px rgba(0, 0, 0, 0.3));\n",
              "      fill: #FFFFFF;\n",
              "    }\n",
              "  </style>\n",
              "\n",
              "      <script>\n",
              "        const buttonEl =\n",
              "          document.querySelector('#df-bbdb5947-a53e-442a-a9be-48c8e6fd51ab button.colab-df-convert');\n",
              "        buttonEl.style.display =\n",
              "          google.colab.kernel.accessAllowed ? 'block' : 'none';\n",
              "\n",
              "        async function convertToInteractive(key) {\n",
              "          const element = document.querySelector('#df-bbdb5947-a53e-442a-a9be-48c8e6fd51ab');\n",
              "          const dataTable =\n",
              "            await google.colab.kernel.invokeFunction('convertToInteractive',\n",
              "                                                     [key], {});\n",
              "          if (!dataTable) return;\n",
              "\n",
              "          const docLinkHtml = 'Like what you see? Visit the ' +\n",
              "            '<a target=\"_blank\" href=https://colab.research.google.com/notebooks/data_table.ipynb>data table notebook</a>'\n",
              "            + ' to learn more about interactive tables.';\n",
              "          element.innerHTML = '';\n",
              "          dataTable['output_type'] = 'display_data';\n",
              "          await google.colab.output.renderOutput(dataTable, element);\n",
              "          const docLink = document.createElement('div');\n",
              "          docLink.innerHTML = docLinkHtml;\n",
              "          element.appendChild(docLink);\n",
              "        }\n",
              "      </script>\n",
              "    </div>\n",
              "  </div>\n",
              "  "
            ]
          },
          "metadata": {},
          "execution_count": 12
        }
      ]
    },
    {
      "cell_type": "markdown",
      "metadata": {
        "id": "E8GA5rbMIy0S"
      },
      "source": [
        "Функция `isnull()` считает все пустые места в таблице с данными, a `sum()` помогает\n",
        "сложить их вместе. \n",
        "\n",
        "Посмотрите краткую статистику по пропускам:"
      ]
    },
    {
      "cell_type": "code",
      "metadata": {
        "colab": {
          "base_uri": "https://localhost:8080/"
        },
        "id": "RR378fn7cdGe",
        "outputId": "cdc438d8-6111-461c-885a-c6cc8119c848"
      },
      "source": [
        "# Проверка, есть ли пропуски в данных\n",
        "print(train.isnull().sum())"
      ],
      "execution_count": null,
      "outputs": [
        {
          "output_type": "stream",
          "name": "stdout",
          "text": [
            "text     0\n",
            "class    0\n",
            "dtype: int64\n"
          ]
        }
      ]
    },
    {
      "cell_type": "markdown",
      "metadata": {
        "id": "gyc0pPKpJkCr"
      },
      "source": [
        "Пропуски можно заполнить одинаковым сообщением с помощью `fillna()`, но у нас пустых данных нет:"
      ]
    },
    {
      "cell_type": "code",
      "metadata": {
        "id": "bW6aO-ltt3sC"
      },
      "source": [
        "# Есть пропуски. Замена всех пустых значений на 'нет данных'\n",
        "train.fillna('нет данных', inplace=True)"
      ],
      "execution_count": null,
      "outputs": []
    },
    {
      "cell_type": "markdown",
      "metadata": {
        "id": "67zf9I90K1pO"
      },
      "source": [
        "Если бы вы хотели получить наглядную информацию об объемах данных по каждой\n",
        "категории(классу), то написали бы для этого простую функцию, как в примере ниже.\n",
        "\n",
        "Имя функции *data_summary* с английского переводится как «обобщенная информация о\n",
        "данных». Внутри функции всего две строки кода:\n",
        "1. С циклом `for`, который проходит по всем категориям обращений граждан (в\n",
        "функции категории сохранены как **class_labels**, а ниже виден исходный\n",
        "доступ к ним через `train['class']`).\n",
        "2. Форматированная строка с выводом информации по категориям, где:\n",
        "\n",
        "    * **cls** – имя для каждой ячейки с названием категории;\n",
        "\n",
        "    * `train[train[\"class\"]` – доступ ко всему столбцу категорий целиком;\n",
        "\n",
        "    * добавление `.shape[0]` в конце – доступ к ячейкам построчно, т.е. по\n",
        "отдельности.\n",
        "\n",
        "Протестируйте функцию и изучите информацию о количестве сообщений по отдельно\n",
        "взятой категории:"
      ]
    },
    {
      "cell_type": "code",
      "source": [
        "# Функция вывода сводки по распределению данных\n",
        "def data_summary(train, class_labels):\n",
        "    for cls in class_labels:\n",
        "        print(f'Количество записей класса {cls}: {train[train[\"class\"] == cls].shape[0]}')   "
      ],
      "metadata": {
        "id": "iapqJa1yttiL"
      },
      "execution_count": null,
      "outputs": []
    },
    {
      "cell_type": "markdown",
      "source": [
        "Метод `unique()` для базы данных за вас подсчитывает количество сообраний по каждой\n",
        "категории. "
      ],
      "metadata": {
        "id": "n9skeV5NtzYd"
      }
    },
    {
      "cell_type": "code",
      "source": [
        "# Сводка по распределению данных\n",
        "data_summary(train, train[\"class\"].unique())"
      ],
      "metadata": {
        "colab": {
          "base_uri": "https://localhost:8080/"
        },
        "id": "H4HezqXvt2AV",
        "outputId": "eb2cf4f0-cc3c-40b1-9e89-dab1b2236444"
      },
      "execution_count": null,
      "outputs": [
        {
          "output_type": "stream",
          "name": "stdout",
          "text": [
            "Количество записей класса 1: 91938\n",
            "Количество записей класса 0: 89529\n"
          ]
        }
      ]
    },
    {
      "cell_type": "markdown",
      "metadata": {
        "id": "7Plia7Yu-jiS"
      },
      "source": [
        "###Преобразование текстовых данных в числовые и векторные представления для обучения нейросети"
      ]
    },
    {
      "cell_type": "markdown",
      "metadata": {
        "id": "o_vEPQ80U8mg"
      },
      "source": [
        "\n",
        "\n",
        "Если все сообщения – это один строковый образец текста, то надо выделить часть\n",
        "этого текста по частоте повторений слов. Это и делает токенизатор в Keras.\n",
        "1. Выделите лимит в 10 000 слов, сохраните его в **VOCAB_SIZE**.\n",
        "2. `TRAIN_TEST_RATIO = 0.2` буквально означает, что на проверку точности НС\n",
        "будет выделено 20% от обучающих примеров.\n",
        "\n",
        "Учитывайте, что и **VOCAB_SIZE**, и **TRAIN_TEST_RATIO** – это просто имена\n",
        "переменных, придуманные для удобства."
      ]
    },
    {
      "cell_type": "code",
      "metadata": {
        "id": "9yXYUXbNWNHV"
      },
      "source": [
        "# Задание параметров преобразования\n",
        "VOCAB_SIZE       = 10000                  # Объем словаря для токенизатора\n",
        "TRAIN_TEST_RATIO = 0.2                    # Доля проверочной выборки в основном наборе"
      ],
      "execution_count": null,
      "outputs": []
    },
    {
      "cell_type": "markdown",
      "metadata": {
        "id": "U-t34nKQQU97"
      },
      "source": [
        "**Токенизация и преобразование в последовательности**"
      ]
    },
    {
      "cell_type": "markdown",
      "metadata": {
        "id": "LksrQlDxCaQg"
      },
      "source": [
        "В этой части вы поработаете с данными в табличном формате, но окончательный вид\n",
        "данных для обработки – текст. Со временем вы научитесь замечать, к какому типу\n",
        "принадлежат данные. При обработке текста сначала объединяют весь набор\n",
        "тренировочных данных в один неразрывный текст.\n",
        "\n",
        "Сохраните обобщенный текст всех сообщений в переменной **text_data_train**.\n",
        "Команда `train['text']` сразу предоставит доступ ко всему столбцу с сообщениями. А\n",
        "`tolist()` позволит получить списки сообщений, собранные в одно целое.\n",
        "\n",
        "Тот же набор действий используют для переменной **class_data**, но здесь идет работа\n",
        "уже с категориями сообщений. Обучаясь на этих данных, НС узнает, как\n",
        "правильно сопоставить сообщение с его категорией и точно определить ответ. Здесь вы\n",
        "получите доступ к столбцу категорий `train['class']`, и так же сохраните их все в список\n",
        "`tolist()`. Тоже самое делаем и для тестовых данных"
      ]
    },
    {
      "cell_type": "code",
      "metadata": {
        "id": "B7zVyeQYynhN"
      },
      "source": [
        "# Извлечение всех записей-текстов обращений и их меток классов\n",
        "text_data_train = train[\"text\"].tolist()\n",
        "class_data_train = train[\"class\"].tolist()\n",
        "text_data_test = test[\"text\"].tolist()\n",
        "# text_data_test "
      ],
      "execution_count": null,
      "outputs": []
    },
    {
      "cell_type": "markdown",
      "metadata": {
        "id": "5C-PdJZBDJPz"
      },
      "source": [
        "Tokenizer составит на основе текста сообщений словарь\n",
        "частотности с ограничением до индекса 10 000 (значение **VOCAB_SIZE**). Тогда каждое\n",
        "слово получит свой индекс в зависимости от частоты его повторений, а до этого из текста\n",
        "будут убраны все символы, все заглавные буквы станут строчными и будут разделены\n",
        "лишь пробелами. Как вы уже знаете, все слова, не попавшие в диапазон **VOCAB_SIZE**\n",
        "будут признаны неизвестными словами и получат такое же название и индекс 1.\n",
        "\n",
        "Сам словарь формируется для токенайзера функцией `fit_on_texts()`.\n",
        "\n",
        "Функция `word_index_items()` поможет образовать тот же словарь в виде пар «слово :\n",
        "индекс частоты повторений слова»."
      ]
    },
    {
      "cell_type": "code",
      "metadata": {
        "id": "pCxn8LYv3glJ"
      },
      "source": [
        "# Токенизация и построение частотного словаря по обучающим текстам\n",
        "# Используется встроенный в Keras токенизатор для разбиения текста и построения частотного словаря\n",
        "tokenizer = Tokenizer(num_words=VOCAB_SIZE, filters='!\"#$%&()*+,-–—./…:;<=>?@[\\\\]^_`{|}~«»\\t\\n\\xa0\\ufeff', lower=True, split=' ', oov_token='неизвестное_слово', char_level=False)\n",
        "\n",
        "# Использованы параметры:\n",
        "# num_words   - объем словаря\n",
        "# filters     - убираемые из текста ненужные символы\n",
        "# lower       - приведение слов к нижнему регистру\n",
        "# split       - разделитель слов\n",
        "# char_level  - указание разделять по словам, а не по единичным символам\n",
        "# oov_token   - токен для слов, которые не вошли в словарь\n",
        "\n",
        "# Построение частотного словаря по обучающим текстам\n",
        "tokenizer.fit_on_texts(text_data_train)\n",
        "\n",
        "# Построение словаря в виде пар слово - индекс\n",
        "items = list(tokenizer.word_index.items())\n",
        "\n",
        "# tokenizer.fit_on_texts(text_data_var)\n",
        "# items1 = list(tokenizer.word_index.items())\n",
        "\n",
        "tokenizer.fit_on_texts(text_data_test)\n",
        "\n",
        "items2 = list(tokenizer.word_index.items())"
      ],
      "execution_count": null,
      "outputs": []
    },
    {
      "cell_type": "markdown",
      "metadata": {
        "id": "qvOlMBoDFwlx"
      },
      "source": [
        "В библиотеке Sklearn есть очень полезный инструмент *LabelEncoder*. Его используют в\n",
        "тех случаях, когда работают с категориальными данными. В вашей таблице есть категорий сообщений - «Позитивный» или \"Неготивный\". НС будет выявлять принадлежность сообращения к\n",
        "одной из таких категорий.\n",
        "\n",
        "*LabelEncoder* преобразует весь список категорий текстового типа (`class_data_train`) в список\n",
        "индексов от 0 и до последней категории по счету. Если какая-либо категория встречается\n",
        "повторно, то она все равно сохраняет тот индекс, что первоначально ей присвоен. Так,\n",
        "сколько раз вы бы не встретили категорию «Позитивный», если ее индекс 1, то он так и\n",
        "останется 1.\n"
      ]
    },
    {
      "cell_type": "code",
      "metadata": {
        "id": "67RlS5Rdynhb",
        "colab": {
          "base_uri": "https://localhost:8080/"
        },
        "outputId": "1f9856c6-af63-49d4-cc5a-90ed987f7cd0"
      },
      "source": [
        "# Кодирование меток классов индексами (числами)\n",
        "encoder = LabelEncoder()\n",
        "class_labels = encoder.fit_transform(class_data_train)\n",
        "\n",
        "CLASS_LIST = encoder.classes_\n",
        "CLASS_COUNT = len(CLASS_LIST)\n",
        "\n",
        "print(f'Размер словаря: {len(items)}')\n",
        "print(f'Список классов: {CLASS_LIST}')\n",
        "print(f'Всего классов: {CLASS_COUNT}')\n",
        "print(f'Форма выходных данных: {class_labels.shape}')\n",
        "print(f'Пример числовых меток классов: {class_labels[:10]}')"
      ],
      "execution_count": null,
      "outputs": [
        {
          "output_type": "stream",
          "name": "stdout",
          "text": [
            "Размер словаря: 304899\n",
            "Список классов: [0 1]\n",
            "Всего классов: 2\n",
            "Форма выходных данных: (181467,)\n",
            "Пример числовых меток классов: [1 1 0 0 1 1 0 0 1 1]\n"
          ]
        }
      ]
    },
    {
      "cell_type": "markdown",
      "metadata": {
        "id": "77eQnXrRP5ts"
      },
      "source": [
        "Словарь частотности повторений уже составлен.\n",
        "\n",
        "Используйте функцию токенайзера `texts_to_sequences()` и получите текст для\n",
        "обучения в виде одних только индексов (чисел).\n",
        "\n",
        "Переменная **x_data** задана для подготовки данных к самому обучению, потому же\n",
        "данные внутри нее сразу преобразуются в numpy-массив через `np.array()`:\n",
        "\n",
        "Будет здорово, если вы освоите материал занятия и выполните такие же задачи\n",
        "самостоятельно! Пусть это будет вашей мотивацией.\n",
        "\n",
        "В блоке кода ниже текст обращений также преобразуется в матрицу\n",
        "(`texts_to_matrix`) из значений 0 и 1 для изученного ранее способа *Bag Of Words*. Эти\n",
        "данные сохраняются в переменной **x_data_01**.\n",
        "\n",
        "Вы помните, что верные ответы (категории сообщений) были переведены *LabelEncoder* в\n",
        "формат индексов. Но нейронные сети хорошо работают именно с нормализованными\n",
        "данными. Формат от 0 до 1 – лучшая нормализация. Однако и ряд индексов категорий –\n",
        "это не полноценный текст, а просто слова и словосочетания (метки классов). Для\n",
        "преобразования категорий ответов для подачи в сеть чаще всего используют метод\n",
        "`utils.to_categorical`. Он дает вектор из нулей и одной единицы (положение\n",
        "верного ответа) для каждой категории в отдельности."
      ]
    },
    {
      "cell_type": "code",
      "metadata": {
        "id": "f_K9jhHfBw9Y",
        "colab": {
          "base_uri": "https://localhost:8080/"
        },
        "outputId": "de35408c-8624-4d32-a6db-a118ff43de67"
      },
      "source": [
        "# Преобразование входных текстов в последовательности индексов (для архитектур с embedding)\n",
        "# Применено приведение к массиву объектов для дальнейшего разделения на выборки\n",
        "x_data = np.array(tokenizer.texts_to_sequences(text_data_train), dtype=object)\n",
        "# Вывод формы и примера данных\n",
        "print(x_data.shape) \n",
        "print(x_data[0][:20])\n",
        "\n",
        "# Преобразование входных текстов в разреженную матрицу из векторов Bag of Words\n",
        "x_data_01 = tokenizer.texts_to_matrix(text_data_train)\n",
        "# Вывод формы и примера данных\n",
        "print(x_data_01.shape) \n",
        "print(x_data_01[0, :20])\n",
        "\n",
        "# Преобразование меток класса к векторам one hot encoding\n",
        "y_data = utils.to_categorical(class_labels, CLASS_COUNT)\n",
        "# Вывод формы и примера данных\n",
        "print(y_data.shape)\n",
        "print(y_data[0])"
      ],
      "execution_count": null,
      "outputs": [
        {
          "output_type": "stream",
          "name": "stdout",
          "text": [
            "(181467,)\n",
            "[1, 11, 34, 1901, 1, 34, 36, 1, 1, 52, 93, 7925]\n",
            "(181467, 30000)\n",
            "[0. 1. 0. 0. 0. 0. 0. 0. 0. 0. 0. 1. 0. 0. 0. 0. 0. 0. 0. 0.]\n",
            "(181467, 2)\n",
            "[0. 1.]\n"
          ]
        }
      ]
    },
    {
      "cell_type": "markdown",
      "metadata": {
        "id": "XGkUHA0wynhe"
      },
      "source": [
        "**Создание обучающей и тестовой выборок**"
      ]
    },
    {
      "cell_type": "markdown",
      "metadata": {
        "id": "XQWZEvTUd1lv"
      },
      "source": [
        "На данный момент вы располагаете **x_data** – общим массивом чисел для обучения.\n",
        "\n",
        "Этот массив необходимо поделить на обучающую выборку и тестовую, ведь вы хотите\n",
        "тестировать точность сети на независимых данных! Метод `train_test_split()`\n",
        "поможет провести границу деления, результат которого для границы обучающей выборки\n",
        "сохраняют переменные **idx_train** и **idx_test** – для тестовой.\n",
        "\n",
        "В параметрах метода:\n",
        "1. `range(len( ))` для **x_data** – диапазон длины всего массива для обучения.\n",
        "2. `stratify = y_data` – сопоставление тренировочных и тестовых данных с\n",
        "ответами к ним.\n",
        "\n",
        "3. `test_size = TRAIN_TEST_RATIO` – то самое значение деления\n",
        "(`TRAIN_TEST_RATIO = 0.2`) общего массива на 80% (тренировочная выборка) к\n",
        "20% (тестовая выборка).\n",
        "\n",
        "Поместите **idx_train**, **idx_test** в диапазон **x_data** (`x_data[idx_train],\n",
        "x_data[idx_test]`). Так вы получите уже финальные выборки. Их можно подать на\n",
        "обучение сети. То же самое сделайте для **x_data_01**, чтобы получить выборки для\n",
        "способа *Bag Of Words*.\n",
        "\n",
        "В конце важно проверить размерности каждой выборки, чтобы правильно задать\n",
        "гиперпараметры обучения НС. Это можно сделать с помощью `shape()`"
      ]
    },
    {
      "cell_type": "code",
      "metadata": {
        "id": "mJq5KSx3ynhf"
      },
      "source": [
        "# Получение индексов разделения основного набора на обучающую и тестовую выборки\n",
        "idx_train, idx_test = train_test_split(list(range(len(x_data))),\n",
        "                                       stratify=y_data,\n",
        "                                       test_size=TRAIN_TEST_RATIO)\n",
        "\n",
        "# Разделение в соответствии с полученными индексами\n",
        "x_train, x_test = x_data[idx_train], x_data[idx_test]\n",
        "x_train_01, x_test_01 = x_data_01[idx_train], x_data_01[idx_test]\n",
        "y_train, y_test = y_data[idx_train], y_data[idx_test]\n",
        "\n",
        "# Проверка результата\n",
        "print(x_train.shape, x_test.shape)\n",
        "print(x_train_01.shape, x_test_01.shape)\n",
        "print(y_train.shape, y_test.shape)"
      ],
      "execution_count": null,
      "outputs": []
    },
    {
      "cell_type": "markdown",
      "metadata": {
        "id": "9gI1hXsRmhUo"
      },
      "source": [
        "###Сервисные функции\n"
      ]
    },
    {
      "cell_type": "markdown",
      "metadata": {
        "id": "N07ELMVMs9v5"
      },
      "source": [
        "Ниже представленные функции собирают параметры обучения модели воедино (компиляция), оценивают\n",
        "точность уже обученной сети и выводят графики процесса обучения и точности. Две\n",
        "первые функции последовательно вызываются в третьей –\n",
        "`compile_train_eval_model()`. Именно ей вы и воспользуетесь."
      ]
    },
    {
      "cell_type": "code",
      "metadata": {
        "id": "kkZ3NiY8If2Y"
      },
      "source": [
        "# Функция компиляции и обучения модели нейронной сети\n",
        "def compile_train_model(model, \n",
        "                        x_train,\n",
        "                        y_train,\n",
        "                        x_val,\n",
        "                        y_val,\n",
        "                        optimizer='adam',\n",
        "                        epochs=50,\n",
        "                        batch_size=128,\n",
        "                        figsize=(20, 5)):\n",
        "\n",
        "    # Компиляция модели\n",
        "    model.compile(optimizer=optimizer, \n",
        "                  loss='categorical_crossentropy', \n",
        "                  metrics=['accuracy'])\n",
        "\n",
        "    # Вывод сводки\n",
        "    model.summary()\n",
        "\n",
        "    # Обучение модели с заданными параметрами\n",
        "    history = model.fit(x_train,\n",
        "                        y_train,\n",
        "                        epochs=epochs,\n",
        "                        batch_size=batch_size,\n",
        "                        validation_data=(x_val, y_val))\n",
        "\n",
        "    # Вывод графиков точности и ошибки\n",
        "    fig, (ax1, ax2) = plt.subplots(1, 2, figsize=figsize)\n",
        "    fig.suptitle('График процесса обучения модели')\n",
        "    ax1.plot(history.history['accuracy'], \n",
        "               label='Доля верных ответов на обучающем наборе')\n",
        "    ax1.plot(history.history['val_accuracy'], \n",
        "               label='Доля верных ответов на проверочном наборе')\n",
        "    ax1.xaxis.get_major_locator().set_params(integer=True)\n",
        "    ax1.set_xlabel('Эпоха обучения')\n",
        "    ax1.set_ylabel('Доля верных ответов')\n",
        "    ax1.legend()\n",
        "\n",
        "    ax2.plot(history.history['loss'], \n",
        "               label='Ошибка на обучающем наборе')\n",
        "    ax2.plot(history.history['val_loss'], \n",
        "               label='Ошибка на проверочном наборе')\n",
        "    ax2.xaxis.get_major_locator().set_params(integer=True)\n",
        "    ax2.set_xlabel('Эпоха обучения')\n",
        "    ax2.set_ylabel('Ошибка')\n",
        "    ax2.legend()\n",
        "    plt.show()\n",
        "\n",
        "\n",
        "# Функция вывода результатов оценки модели на заданных данных\n",
        "def eval_model(model, x, y_true,\n",
        "               class_labels=[],\n",
        "               cm_round=3,\n",
        "               title='',\n",
        "               figsize=(10, 10)):\n",
        "    # Вычисление предсказания сети\n",
        "    y_pred = model.predict(x)\n",
        "    # Построение матрицы ошибок\n",
        "    cm = confusion_matrix(np.argmax(y_true, axis=1),\n",
        "                          np.argmax(y_pred, axis=1),\n",
        "                          normalize='true')\n",
        "    # Округление значений матрицы ошибок\n",
        "    cm = np.around(cm, cm_round)\n",
        "\n",
        "    # Отрисовка матрицы ошибок\n",
        "    fig, ax = plt.subplots(figsize=figsize)\n",
        "    ax.set_title(f'Нейросеть {title}: матрица ошибок нормализованная', fontsize=18)\n",
        "    disp = ConfusionMatrixDisplay(confusion_matrix=cm, display_labels=class_labels)\n",
        "    disp.plot(ax=ax)\n",
        "    plt.gca().images[-1].colorbar.remove()  # Стирание ненужной цветовой шкалы\n",
        "    plt.xlabel('Предсказанные классы', fontsize=16)\n",
        "    plt.ylabel('Верные классы', fontsize=16)\n",
        "    fig.autofmt_xdate(rotation=45)          # Наклон меток горизонтальной оси при необходимости\n",
        "    plt.show()    \n",
        "\n",
        "    print('-'*100)\n",
        "    print(f'Нейросеть: {title}')\n",
        "\n",
        "    # Для каждого класса:\n",
        "    for cls in range(len(class_labels)):\n",
        "        # Определяется индекс класса с максимальным значением предсказания (уверенности)\n",
        "        cls_pred = np.argmax(cm[cls])\n",
        "        # Формируется сообщение о верности или неверности предсказания\n",
        "        msg = 'ВЕРНО :-)' if cls_pred == cls else 'НЕВЕРНО :-('\n",
        "        # Выводится текстовая информация о предсказанном классе и значении уверенности\n",
        "        print('Класс: {:<20} {:3.0f}% сеть отнесла к классу {:<20} - {}'.format(class_labels[cls],\n",
        "                                                                               100. * cm[cls, cls_pred],\n",
        "                                                                               class_labels[cls_pred],\n",
        "                                                                               msg))\n",
        "\n",
        "    # Средняя точность распознавания определяется как среднее диагональных элементов матрицы ошибок\n",
        "    print('\\nСредняя точность распознавания: {:3.0f}%'.format(100. * cm.diagonal().mean()))\n",
        "\n",
        "\n",
        "# Совместная функция обучения и оценки модели нейронной сети\n",
        "def compile_train_eval_model(model, \n",
        "                             x_train,\n",
        "                             y_train,\n",
        "                             x_test,\n",
        "                             y_test,\n",
        "                             class_labels=CLASS_LIST,\n",
        "                             title='',\n",
        "                             optimizer='adam',\n",
        "                             epochs=50,\n",
        "                             batch_size=128,\n",
        "                             graph_size=(20, 5),\n",
        "                             cm_size=(10, 10)):\n",
        "\n",
        "    # Компиляция и обучение модели на заданных параметрах\n",
        "    # В качестве проверочных используются тестовые данные\n",
        "    compile_train_model(model, \n",
        "                        x_train, y_train,\n",
        "                        x_test, y_test,\n",
        "                        optimizer=optimizer,\n",
        "                        epochs=epochs,\n",
        "                        batch_size=batch_size,\n",
        "                        figsize=graph_size)\n",
        "\n",
        "    # Вывод результатов оценки работы модели на тестовых данных\n",
        "    eval_model(model, x_test, y_test, \n",
        "               class_labels=class_labels, \n",
        "               title=title,\n",
        "               figsize=cm_size)"
      ],
      "execution_count": null,
      "outputs": []
    },
    {
      "cell_type": "markdown",
      "metadata": {
        "id": "r4IB6OQBKBnS"
      },
      "source": [
        "### BagOfWords + Dense"
      ]
    },
    {
      "cell_type": "markdown",
      "metadata": {
        "id": "A09gylfWupmA"
      },
      "source": [
        "Модель – полносвязная НС с применением *Bag Of Words*. Исходя из этого, имя модели **model_text_bow_dense** состоит из 7 слоев, из\n",
        "которых 4 слоя – полносвязные (Dense). Каждый Dense-слой сети включает по 100 нейронов и функцию активации `relu`. Кроме\n",
        "слоя выхода там должно получиться число нейронов в соответствии с количеством\n",
        "определяющихся категорий (2, это число сохранено в **CLASS_COUNT**). Функция\n",
        "активации тоже отлична (здесь `softmax`).\n",
        "\n",
        "Скомпилируйте, обучите модель и посмотрите на результат."
      ]
    },
    {
      "cell_type": "code",
      "metadata": {
        "id": "lECcAuZJynhl"
      },
      "source": [
        "# Последовательная модель\n",
        "model_text_bow_dense = Sequential()\n",
        "# Входной полносвязный слой\n",
        "model_text_bow_dense.add(Dense(100, input_dim=VOCAB_SIZE, activation=\"relu\"))\n",
        "# Слой регуляризации Dropout\n",
        "model_text_bow_dense.add(Dropout(0.4))\n",
        "# Второй полносвязный слой\n",
        "model_text_bow_dense.add(Dense(100, activation='relu'))\n",
        "# Слой регуляризации Dropout\n",
        "model_text_bow_dense.add(Dropout(0.4))\n",
        "# Третий полносвязный слой\n",
        "model_text_bow_dense.add(Dense(100, activation='relu'))\n",
        "# Слой регуляризации Dropout\n",
        "model_text_bow_dense.add(Dropout(0.4))\n",
        "# Выходной полносвязный слой\n",
        "model_text_bow_dense.add(Dense(CLASS_COUNT, activation='softmax'))\n",
        "\n",
        "# Входные данные подаются в виде векторов bag of words\n",
        "compile_train_eval_model(model_text_bow_dense,\n",
        "                         x_train_01, y_train,\n",
        "                         x_test_01, y_test,\n",
        "                         epochs=15,\n",
        "                         batch_size=32,\n",
        "                         cm_size=(16, 16),\n",
        "                         class_labels=CLASS_LIST,\n",
        "                         title='BoW + dense')"
      ],
      "execution_count": null,
      "outputs": []
    },
    {
      "cell_type": "markdown",
      "source": [
        "Преобразуем тестовые данные для составления прогноза."
      ],
      "metadata": {
        "id": "D-8MGt25y8Ew"
      }
    },
    {
      "cell_type": "code",
      "source": [
        "# Преобразование входных текстов в последовательности индексов (для архитектур с embedding)\n",
        "# Применено приведение к массиву объектов для дальнейшего разделения на выборки\n",
        "x_test_1 = np.array(tokenizer.texts_to_sequences(text_data_test), dtype=object)\n",
        "# Вывод формы и примера данных\n",
        "print(x_test_1.shape) \n",
        "print(x_test_1[0][:20])\n",
        "\n",
        "# Преобразование входных текстов в разреженную матрицу из векторов Bag of Words\n",
        "x_test_01 = tokenizer.texts_to_matrix(text_data_test)\n",
        "# Вывод формы и примера данных\n",
        "print(x_test_01.shape) \n",
        "print(x_test_01[0, :20])"
      ],
      "metadata": {
        "id": "j6mBYWffy5Go"
      },
      "execution_count": null,
      "outputs": []
    },
    {
      "cell_type": "markdown",
      "source": [
        "Непосредственная подача данных для обученной нейросети."
      ],
      "metadata": {
        "id": "eXW_QPrazNE7"
      }
    },
    {
      "cell_type": "code",
      "source": [
        "# Получение прогнозов модели для новых данных\n",
        "y_pred = model_text_bow_dense.predict(x_test_01)\n",
        "\n",
        "# Преобразование прогнозов в бинарный формат\n",
        "y_pred_binary = np.argmax(y_pred, axis=1)\n"
      ],
      "metadata": {
        "id": "nlzeuyr1zK7b"
      },
      "execution_count": null,
      "outputs": []
    },
    {
      "cell_type": "markdown",
      "source": [
        "Сохранения полученного предсказания в txt файл"
      ],
      "metadata": {
        "id": "djlXe0nzzWln"
      }
    },
    {
      "cell_type": "code",
      "source": [
        "# Сохранение прогнозов в текстовый файл через запятую\n",
        "np.savetxt(\"predictions4.txt\", y_pred, delimiter=\",\", fmt=\"%d\")"
      ],
      "metadata": {
        "id": "nBFvkB66zVcX"
      },
      "execution_count": null,
      "outputs": []
    }
  ]
}